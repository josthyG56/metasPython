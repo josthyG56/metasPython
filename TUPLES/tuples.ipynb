{
 "cells": [
  {
   "cell_type": "markdown",
   "metadata": {},
   "source": [
    "# Tuplas\n",
    "\n",
    "## ¿Qué son?\n",
    "Las tuplas en Python son similares a las listas pero inmutables, lo que significa que no se pueden modificar, añadir o eliminar elementos una vez creadas.\n",
    "\n",
    "## ¿Cómo se crean las tuplas?\n",
    "- Primero se pone el nombre que quieres que tenga la tupla.\n",
    "- En segundo abrimos los paréntesis.\n",
    "- Dentro de los paréntesis agregamos valores, estos pueden ser de diferentes tipos (números, cadenas, valores reales, una lista también).\n",
    "- Ya que la tengamos lista, la imprimimos."
   ]
  },
  {
   "cell_type": "code",
   "execution_count": null,
   "metadata": {},
   "outputs": [],
   "source": [
    "#Creamos la tupla con diferentes tipos de valores\n",
    "tupla = (1, \"Holis\", 6.78, [1,2,3,4])\n",
    "\n",
    "#Imprimimos la tupla\n",
    "print(tupla)"
   ]
  },
  {
   "cell_type": "markdown",
   "metadata": {},
   "source": [
    "## ¿Cómo se modifican las tuplas?\n",
    "Las tuplas son estructuras de datos inmutables, lo que quiere decir que no se pueden modificar una vez creadas."
   ]
  },
  {
   "cell_type": "code",
   "execution_count": null,
   "metadata": {},
   "outputs": [],
   "source": [
    "frutas = (\"Manzana\", \"Pera\", \"Sandía\", \"Mango\")\n",
    "print(frutas)\n",
    "#Intentamos modificar el valor 2 de la tupla pero no se puede como en una lista\n",
    "frutas[2] = \"Fresa\""
   ]
  },
  {
   "cell_type": "markdown",
   "metadata": {},
   "source": [
    "Sin embargo, si hay formas de \"modificar\" una tupla, aunque en realidad estás creando una nueva tupla con los cambios deseados o elementos que quieres añadir."
   ]
  },
  {
   "cell_type": "code",
   "execution_count": null,
   "metadata": {},
   "outputs": [],
   "source": [
    "#Tenemos la tupla original\n",
    "tupla_original = (1, 2, 3)\n",
    "\n",
    "#Creamos una nueva tupla que sea igual a la original más los valores a agregar\n",
    "nueva_tupla = tupla_original + (4, 5)\n",
    "\n",
    "#Se imprime la tupla original\n",
    "print(tupla_original)\n",
    "\n",
    "#Se imprime la nueva tupla con los valores agregados\n",
    "print(nueva_tupla)"
   ]
  },
  {
   "cell_type": "markdown",
   "metadata": {},
   "source": [
    "## ¿Cómo eliminar elementos en una tupla?\n",
    "Dado que las tuplas en Python son estructuras de datos inmutables, no puedes eliminar elementos de una tupla directamente."
   ]
  },
  {
   "cell_type": "code",
   "execution_count": null,
   "metadata": {},
   "outputs": [],
   "source": [
    "tamales = (\"Rajas\", \"Mole\", \"Piña\", \"Salsa verde\")\n",
    "print(tamales)\n",
    "\n",
    "#Al querer eliminar el último elemento de la tupla, no se puede\n",
    "tupla.pop()"
   ]
  },
  {
   "cell_type": "markdown",
   "metadata": {},
   "source": [
    "Sin embargo, puedes crear una nueva tupla que excluya los elementos que deseas eliminar. Una es usando slicing, creando una nueva tupla que excluya los elementos que deseas eliminar."
   ]
  },
  {
   "cell_type": "code",
   "execution_count": null,
   "metadata": {},
   "outputs": [],
   "source": [
    "tupla_numero = (1, 2, 3, 4, 5)\n",
    "print(tupla_numero)\n",
    "\n",
    "elemento_a_eliminar = 2\n",
    "tupla_nueva = tupla_numero[:elemento_a_eliminar] + tupla_numero[elemento_a_eliminar + 1:]\n",
    "print(tupla_nueva)"
   ]
  },
  {
   "cell_type": "markdown",
   "metadata": {},
   "source": [
    "## Diferencia con una lista\n",
    "- En una tupla no se pueden agregar más valores, los valores que tendrá al inicio son los que va a tener siempre, ya que no se pueden añadir ni quitar.\n",
    "- Las listas se definen con corchetes, en cambio las tuplas se definen con paréntesis.\n",
    "-Las tuplas se usan cualndo se quieren almacenar elementos que no cambarán, en cambio en las listas se almacenan elementos que pueden cambiar a lo largo del tiempo."
   ]
  },
  {
   "cell_type": "code",
   "execution_count": null,
   "metadata": {},
   "outputs": [],
   "source": [
    "#Tupla\n",
    "\n",
    "pastel = (\"Chocolate\", \"Vainilla\", \"Fresa\", \"Tres Leches\")\n",
    "print(pastel)\n",
    "#En las listas se usa el append para añadirle más elementos, en las tuplas no\n",
    "pastel.append(\"Red Velvet\")"
   ]
  },
  {
   "cell_type": "code",
   "execution_count": null,
   "metadata": {},
   "outputs": [],
   "source": [
    "#Lista\n",
    "\n",
    "helado = [\"Chocolate\", \"Pistache\", \"Napolitano\", \"Chicle\", \"Galleta\"]\n",
    "print(helado)\n",
    "\n",
    "#En este caso si se pudo agregar un elemento más a la lista\n",
    "helado.append(\"Choco menta\")\n",
    "print(helado)"
   ]
  },
  {
   "cell_type": "markdown",
   "metadata": {},
   "source": [
    "## Usos más comúnes de las tuplas\n",
    "\n",
    "1. Selecciona elementos que la componen, aquí también se puede hacer uso del slicing."
   ]
  },
  {
   "cell_type": "code",
   "execution_count": null,
   "metadata": {},
   "outputs": [],
   "source": [
    "#Imprimir el elemento 1\n",
    "\n",
    "#Creamos la tupla y la imprimimos\n",
    "planetas = (\"Saturno\", \"Marte\", \"Tierra\", \"Neptuno\", \"Venus\")\n",
    "print(planetas)\n",
    "\n",
    "#Imprimimos el elemento indicado\n",
    "print(planetas[1])\n",
    "\n",
    "#También se puede imprimir el último elemento\n",
    "print(planetas[-1])"
   ]
  },
  {
   "cell_type": "code",
   "execution_count": null,
   "metadata": {},
   "outputs": [],
   "source": [
    "#Con slicing, quiero que imprima desde el elemento 2 hasta el final\n",
    "\n",
    "print(planetas[2:])"
   ]
  },
  {
   "cell_type": "markdown",
   "metadata": {},
   "source": [
    "2. Se pueden hacer búsquedas en las tuplas."
   ]
  },
  {
   "cell_type": "code",
   "execution_count": null,
   "metadata": {},
   "outputs": [],
   "source": [
    "ejemplo = (4, \"Cristal\", 3.14, [3, 6, 9], 4)\n",
    "print(ejemplo)\n",
    "\n",
    "#Quiero buscar si existe 4 en la tupla\n",
    "print(4 in ejemplo)\n",
    "\n",
    "#Quiero en que posición se encuentra el 3.14\n",
    "print(ejemplo.index(3.14))\n",
    "\n",
    "#Quiero saber cuantas veces se repite el 4 en la tupla\n",
    "print(ejemplo.count(4))\n",
    "\n",
    "#Quiero saber la longitud de la tupla\n",
    "print(len(ejemplo))"
   ]
  },
  {
   "cell_type": "markdown",
   "metadata": {},
   "source": [
    "3. Se pueden transformar listas en duplas y viceversa."
   ]
  },
  {
   "cell_type": "code",
   "execution_count": null,
   "metadata": {},
   "outputs": [],
   "source": [
    "utiles = (\"Cuaderno\", \"Libro\", \"Mochila\", \"Colores\")\n",
    "\n",
    "#Se convierte a lista y el retorno se guarda en la variable lista\n",
    "lista = list(utiles)\n",
    "\n",
    "#Si la imprimimos, nos damos cuenta de que se hace lista\n",
    "print(utiles)\n",
    "\n",
    "#Ahora trasformaremos la lista en tupla\n",
    "lista = [\"Cuaderno\", \"Libro\", \"Mochila\", \"Colores\"]\n",
    "\n",
    "#Se convierte a tupla con la tuple\n",
    "utiles = tuple(lista)\n",
    "\n",
    "#Si la imprimimos, nos damos cuenta de que se vuelve tupla\n",
    "print(lista)"
   ]
  },
  {
   "cell_type": "markdown",
   "metadata": {},
   "source": [
    "# Ejercicios con Tuplas\n",
    "\n",
    "1. Crea una tupla con números e indica el numero con mayor valor y el que menor tenga."
   ]
  },
  {
   "cell_type": "code",
   "execution_count": null,
   "metadata": {},
   "outputs": [],
   "source": [
    "numeros = (7,6,5,4,3,2,3,4,5,1,4,3)\n",
    "\n",
    "print(\"Maximo: \",max(numeros))\n",
    "\n",
    "print(\"Minimo: \",min(numeros))"
   ]
  },
  {
   "cell_type": "markdown",
   "metadata": {},
   "source": [
    "2. Concatenar dos tuplas y mostrar el resultado."
   ]
  },
  {
   "cell_type": "code",
   "execution_count": null,
   "metadata": {},
   "outputs": [],
   "source": [
    "tupla1 = (1, 2, 3)\n",
    "tupla2 = (4, 5, 6)\n",
    "tupla_concatenada = tupla1 + tupla2\n",
    "print(\"Tupla concatenada:\", tupla_concatenada)"
   ]
  },
  {
   "cell_type": "markdown",
   "metadata": {},
   "source": [
    "3. Convertir una tupla en una lista."
   ]
  },
  {
   "cell_type": "code",
   "execution_count": null,
   "metadata": {},
   "outputs": [],
   "source": [
    "colores = (1, 2, 3, 4, 5)\n",
    "lista_colores = list(colores)\n",
    "print(\"Convertiste la tupla en lista:\", lista_colores)"
   ]
  },
  {
   "cell_type": "markdown",
   "metadata": {},
   "source": [
    "4. Contar cuántas veces aparecen las calificaciones en una tupla."
   ]
  },
  {
   "cell_type": "code",
   "execution_count": null,
   "metadata": {},
   "outputs": [],
   "source": [
    "calificaciones = (100, 97, 100, 58, 78, 58, 99, 90, 87, 100)\n",
    "calificacion = 100\n",
    "apariciones = calificaciones.count(calificacion)\n",
    "print(\"El elemento\", calificacion, \"aparece\", apariciones, \"veces en la tupla.\")"
   ]
  },
  {
   "cell_type": "markdown",
   "metadata": {},
   "source": [
    "5. Crear una tupla con animales y mostrar el quinto animal."
   ]
  },
  {
   "cell_type": "code",
   "execution_count": null,
   "metadata": {},
   "outputs": [],
   "source": [
    "animales = (\"Koala\", \"Serpiente\", \"Cisne\", \"Venado\", \"Araña\", \"Lechuza\", \"Oruga\")\n",
    "print(\"El quinto animal es:\", animales[5])"
   ]
  },
  {
   "cell_type": "markdown",
   "metadata": {},
   "source": [
    "6. Crear una tupla de tuplas y acceder al primer elemento de la segunda tupla."
   ]
  },
  {
   "cell_type": "code",
   "execution_count": null,
   "metadata": {},
   "outputs": [],
   "source": [
    "tupla_de_tuplas = ((1, 2), (3, 4), (5, 6))\n",
    "primer_elemento_segunda_tupla = tupla_de_tuplas[1][0]\n",
    "print(\"Primer elemento de la segunda tupla:\", primer_elemento_segunda_tupla)"
   ]
  },
  {
   "cell_type": "markdown",
   "metadata": {},
   "source": [
    "7.Comparar dos tuplas y verificar si son iguales."
   ]
  },
  {
   "cell_type": "code",
   "execution_count": null,
   "metadata": {},
   "outputs": [],
   "source": [
    "primera_tupla = (1, 2, 3)\n",
    "segunda_tupla = (1, 2, 3)\n",
    "if primera_tupla == segunda_tupla:\n",
    "    print(\"Las tuplas son iguales.\")\n",
    "else:\n",
    "    print(\"Las tuplas son diferentes.\")"
   ]
  },
  {
   "cell_type": "markdown",
   "metadata": {},
   "source": [
    "8. Crear una tupla con números y verificar si un elemento está presente."
   ]
  },
  {
   "cell_type": "code",
   "execution_count": null,
   "metadata": {},
   "outputs": [],
   "source": [
    "num = (10, 20, 30, 40, 50, 60, 70, 80, 90, 100)\n",
    "numero_a_buscar = 101\n",
    "if numero_a_buscar in num:\n",
    "    print(\"El elemento\", numero_a_buscar, \"está presente en la tupla.\")\n",
    "else:\n",
    "    print(\"El elemento\", numero_a_buscar, \"no está presente en la tupla.\")\n"
   ]
  },
  {
   "cell_type": "markdown",
   "metadata": {},
   "source": [
    "9. Realizar slicing en una tupla para obtener una sub-tupla."
   ]
  },
  {
   "cell_type": "code",
   "execution_count": null,
   "metadata": {},
   "outputs": [],
   "source": [
    "tupla_slicing = (1, 2, 3, 4, 5)\n",
    "sub_tupla = tupla_slicing[1:4]\n",
    "print(\"Sub-tupla:\", sub_tupla)"
   ]
  },
  {
   "cell_type": "markdown",
   "metadata": {},
   "source": [
    "10. Crear una tupla con los números del 1 al 5 e imprimirlos uno por uno."
   ]
  },
  {
   "cell_type": "code",
   "execution_count": null,
   "metadata": {},
   "outputs": [],
   "source": [
    "tupla_de_numeros = (1, 2, 3, 4, 5)\n",
    "for numero in tupla_de_numeros:\n",
    "  print(numero)"
   ]
  }
 ],
 "metadata": {
  "language_info": {
   "name": "python"
  }
 },
 "nbformat": 4,
 "nbformat_minor": 2
}
