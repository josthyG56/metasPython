{
 "cells": [
  {
   "cell_type": "code",
   "execution_count": null,
   "metadata": {},
   "outputs": [],
   "source": [
    "nombre = \"Alexis\"\n",
    "nombre2= nombre\n",
    "nombre = \"Eduardo\"\n",
    "print(nombre, nombre2)"
   ]
  },
  {
   "cell_type": "code",
   "execution_count": null,
   "metadata": {},
   "outputs": [],
   "source": [
    "numbers = ['one', 'two', 'three']\n",
    "numbers_two = numbers\n",
    "\n",
    "print(numbers, numbers_two)\n",
    "print(numbers, numbers_two, sep='\\n')\n",
    "\n",
    "numbers[0] = 'Alexis'\n",
    "\n",
    "print(numbers, numbers_two, sep='\\n')"
   ]
  },
  {
   "cell_type": "code",
   "execution_count": null,
   "metadata": {},
   "outputs": [],
   "source": [
    "numbers = ['one', 'two', 'three']\n",
    "numbers_copy = numbers.copy()\n",
    "\n",
    "numbers[0] = 'Alexis'\n",
    "print(numbers, numbers_copy, sep='\\n')"
   ]
  },
  {
   "cell_type": "code",
   "execution_count": null,
   "metadata": {},
   "outputs": [],
   "source": [
    "numbers = ['one', 'two', 'three']\n",
    "numbers_copy = numbers[:]\n",
    "\n",
    "numbers[0] = 'Alexis'\n",
    "print(numbers, numbers_copy, sep='\\n')"
   ]
  },
  {
   "cell_type": "code",
   "execution_count": null,
   "metadata": {},
   "outputs": [],
   "source": [
    "numbers_one = [1, 2, 3]\n",
    "numbers_two = [4, 5, 6]\n",
    "\n",
    "numbers = numbers_one + numbers_two\n",
    "print(numbers)"
   ]
  },
  {
   "cell_type": "code",
   "execution_count": null,
   "metadata": {},
   "outputs": [],
   "source": [
    "numbers_one = [1, 2, 3]\n",
    "numbers_two = [4, 5, 6]\n",
    "\n",
    "numbers = (numbers_one, numbers_two)\n",
    "print(numbers)"
   ]
  },
  {
   "cell_type": "code",
   "execution_count": null,
   "metadata": {},
   "outputs": [],
   "source": [
    "numbers_one = [1, 2, 3]\n",
    "numbers_two = [4, 5, 6]\n",
    "\n",
    "for number in numbers_two:\n",
    "  numbers_one.append(number)\n",
    "\n",
    "  print(numbers_one)"
   ]
  },
  {
   "cell_type": "code",
   "execution_count": null,
   "metadata": {},
   "outputs": [],
   "source": [
    "numbers_one = [1, 2, 3]\n",
    "numbers_two = [4, 5, 6]\n",
    "\n",
    "numbers_one.extend(numbers_two)\n",
    "print(numbers_one)\n",
    "\n",
    "numbers_one = [1, 2, 3]\n",
    "numbers_two = [4, 5, 6]\n",
    "\n",
    "for number in (numbers_one, numbers_two):\n",
    "  print(number)\n",
    "\n",
    "for number in (numbers_one, numbers_two):\n",
    "  for n in number:\n",
    "   print(n)\n",
    "\n",
    "  numbers=[]\n",
    "  for number in (numbers_one, numbers_two):\n",
    "   for n in number:\n",
    "    numbers.append(n)\n",
    "\n",
    "  print(numbers)"
   ]
  },
  {
   "cell_type": "code",
   "execution_count": null,
   "metadata": {},
   "outputs": [],
   "source": [
    "\n",
    "numbers = [n for number in (numbers_one, numbers_two) for n in number]\n",
    "\n",
    "print(numbers)\n",
    "\n",
    "numbers_one = [1, 2, 3]\n",
    "numbers_two = [4, 5, 6]\n",
    "\n",
    "numbers = [*numbers_one, *numbers_two]\n",
    "print(numbers)"
   ]
  }
 ],
 "metadata": {
  "language_info": {
   "name": "python"
  }
 },
 "nbformat": 4,
 "nbformat_minor": 2
}
